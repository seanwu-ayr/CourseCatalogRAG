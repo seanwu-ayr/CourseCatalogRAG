version https://git-lfs.github.com/spec/v1
oid sha256:ce8761ad967e559d6801db1c9b9205fd19e574bc4d48fd7870f458cc7f462ae7
size 74007
