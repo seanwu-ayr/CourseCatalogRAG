version https://git-lfs.github.com/spec/v1
oid sha256:32f8fca7c38c1afe00251400437e1b56757f84872cf120aad0a5e49c56704bf0
size 29728
