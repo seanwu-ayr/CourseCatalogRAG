{
 "cells": [
  {
   "cell_type": "code",
   "execution_count": 7,
   "metadata": {},
   "outputs": [],
   "source": [
    "from langchain_community.embeddings.openai import OpenAIEmbeddings\n",
    "from langchain_community.vectorstores import FAISS\n",
    "from langchain_openai import OpenAIEmbeddings\n",
    "\n",
    "import os\n",
    "#os.environ[\"OPENAI_API_KEY\"] = \"bruh git wont let me upload this\""
   ]
  },
  {
   "cell_type": "code",
   "execution_count": 8,
   "metadata": {},
   "outputs": [],
   "source": [
    "embeddings = OpenAIEmbeddings()\n",
    "texts = [\"apple\", \"orange\",\"human\",\"love\"]\n",
    "faiss = FAISS.from_texts(texts, embeddings)"
   ]
  },
  {
   "cell_type": "code",
   "execution_count": 16,
   "metadata": {},
   "outputs": [
    {
     "name": "stdout",
     "output_type": "stream",
     "text": [
      "<langchain_community.vectorstores.faiss.FAISS object at 0x7fe7ede7e6b0>\n",
      "<langchain_community.docstore.in_memory.InMemoryDocstore object at 0x7fe7ede7e740>\n",
      "{'_dict': {'31e416e3-aac6-42bb-bdf7-927a91633134': Document(page_content='apple'), '0ce27bdf-9e9d-4b64-99e0-88838ad72f5b': Document(page_content='orange'), 'dd60e327-f629-4ca5-b97a-a4299ae1823e': Document(page_content='human'), 'e8b9fa4f-0c62-400a-84c3-810e3b3173fb': Document(page_content='love')}}\n"
     ]
    }
   ],
   "source": [
    "print(faiss) #vectorstore, can embed and search\n",
    "print(faiss.docstore) #in memory storage of vectors\n",
    "print(faiss.docstore.__dict__) #key is id, value is Document, which contains .page_content and .metadata"
   ]
  },
  {
   "cell_type": "markdown",
   "metadata": {},
   "source": []
  }
 ],
 "metadata": {
  "kernelspec": {
   "display_name": "RAG",
   "language": "python",
   "name": "python3"
  },
  "language_info": {
   "codemirror_mode": {
    "name": "ipython",
    "version": 3
   },
   "file_extension": ".py",
   "mimetype": "text/x-python",
   "name": "python",
   "nbconvert_exporter": "python",
   "pygments_lexer": "ipython3",
   "version": "3.10.13"
  }
 },
 "nbformat": 4,
 "nbformat_minor": 2
}
